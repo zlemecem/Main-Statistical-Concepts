{
 "cells": [
  {
   "cell_type": "markdown",
   "metadata": {},
   "source": [
    "Analyze the central tendency and distribution measurements with the mathematical formula given above and the built-in codes available in python through 3 different data that you will generate using the numpy library !!!"
   ]
  },
  {
   "cell_type": "code",
   "execution_count": 32,
   "metadata": {},
   "outputs": [
    {
     "data": {
      "text/plain": [
       "array([10, 14, 26, 33,  1, 76, 91, 23, 56, 91, 43, 27, 37, 28, 58, 41, 32,\n",
       "       84, 19, 97, 42, 26, 22, 54, 43, 93, 24, 52, 47, 21, 55, 52,  2, 96,\n",
       "       72, 21, 13, 99, 78, 66, 40, 62, 89, 73, 14, 19, 78, 60, 86, 35, 77,\n",
       "       74, 23, 90, 23, 64, 15, 73, 53, 22, 24, 23,  1, 56, 13,  7, 26, 86,\n",
       "       62, 61, 50, 89, 68,  2, 29, 20, 49, 58, 73, 62, 54, 30, 27, 81, 39,\n",
       "       30, 24, 77, 99, 78, 24, 61, 84, 34, 54, 17, 10, 31, 65, 80])"
      ]
     },
     "execution_count": 32,
     "metadata": {},
     "output_type": "execute_result"
    }
   ],
   "source": [
    "import numpy as np\n",
    "import statistics\n",
    "rassal1 = np. random.randint(100, size=100)\n",
    "rassal1"
   ]
  },
  {
   "cell_type": "code",
   "execution_count": 68,
   "metadata": {},
   "outputs": [
    {
     "name": "stdout",
     "output_type": "stream",
     "text": [
      "Mean with mathematical formulas = 47.93\n",
      "Mean with numpy : 47.93\n",
      "Mean with built-in : 47\n",
      "----------------------------------------\n",
      "Median with built-in: 48.0\n",
      "Median with numpy: 48.0\n",
      "----------------------------------------\n",
      "Mode with built-in: 23\n",
      "----------------------------------------\n",
      "Variation with numpy: 749.1850999999999\n",
      "Variation with pandas: 749.1850999999999\n",
      "Variation with math: 824.5770999999996\n",
      "----------------------------------------\n",
      "Standart deviation is: 27.37124586130489\n",
      "----------------------------------------\n",
      "Standart error is: 2.7371245861304887\n"
     ]
    }
   ],
   "source": [
    "####### FIRST RANDOM DATA ######## \n",
    "\n",
    "print(\"Mean with mathematical formulas =\", sum(rassal1) / len(rassal1))\n",
    "print(\"Mean with numpy :\", np.mean(rassal1))\n",
    "print(\"Mean with built-in :\", statistics.mean(rassal1))\n",
    "print(\"--\"*20)\n",
    "print(\"Median with built-in:\", statistics.median(rassal1))\n",
    "print(\"Median with numpy:\", np.median(rassal1))\n",
    "print(\"--\"*20)\n",
    "print(\"Mode with built-in:\", statistics.mode(rassal1))\n",
    "print(\"--\"*20)\n",
    "print(\"Variation with numpy:\", np.var(rassal1))\n",
    "print(\"Variation with pandas:\", rassal1.var())\n",
    "print(\"Variation with math:\", sum((rassal -np.mean(rassal1))**2) / (len(rassal1)))\n",
    "print(\"--\"*20)\n",
    "print(\"Standart deviation is:\", np.std(rassal1))\n",
    "print(\"--\"*20)\n",
    "print(\"Standart error is:\", np.std(rassal1) / np.sqrt(len(rassal1)))"
   ]
  },
  {
   "cell_type": "code",
   "execution_count": 67,
   "metadata": {},
   "outputs": [
    {
     "name": "stdout",
     "output_type": "stream",
     "text": [
      "Mean with mathematical formulas = 49.76\n",
      "Mean with numpy : 49.76\n",
      "Mean with built-in : 49\n",
      "----------------------------------------\n",
      "Median with built-in: 48.0\n",
      "Median with numpy: 48.0\n",
      "----------------------------------------\n",
      "Mode with built-in: 55\n",
      "----------------------------------------\n",
      "Variation with numpy: 631.7023999999999\n",
      "Variation with pandas: 631.7023999999999\n",
      "Variation with math: 631.7023999999998\n",
      "----------------------------------------\n",
      "Standart deviation is: 25.13369053680736\n",
      "----------------------------------------\n",
      "Standart error is: 3.5544406029641284\n"
     ]
    }
   ],
   "source": [
    "####### SECOND RANDOM DATA ######## \n",
    "\n",
    "rassal2=np.random.randint(100, size=50)\n",
    "rassal2\n",
    "print(\"Mean with mathematical formulas =\", sum(rassal2) / len(rassal2))\n",
    "print(\"Mean with numpy :\", np.mean(rassal2))\n",
    "print(\"Mean with built-in :\", statistics.mean(rassal2))\n",
    "print(\"--\"*20)\n",
    "print(\"Median with built-in:\", statistics.median(rassal2))\n",
    "print(\"Median with numpy:\", np.median(rassal2))\n",
    "print(\"--\"*20)\n",
    "print(\"Mode with built-in:\", statistics.mode(rassal2))\n",
    "print(\"--\"*20)\n",
    "print(\"Variation with numpy:\", np.var(rassal2))\n",
    "print(\"Variation with pandas:\", rassal2.var())\n",
    "print(\"Variation with math:\", sum((rassal2 -np.mean(rassal2))**2) / (len(rassal2)))\n",
    "print(\"--\"*20)\n",
    "print(\"Standart deviation is:\", np.std(rassal2))\n",
    "print(\"--\"*20)\n",
    "print(\"Standart error is:\", np.std(rassal2) / np.sqrt(len(rassal2)))"
   ]
  },
  {
   "cell_type": "code",
   "execution_count": 71,
   "metadata": {},
   "outputs": [
    {
     "data": {
      "text/plain": [
       "array([ 5, 44,  8, 47,  0, 24, 45,  7, 28, 41,  8, 46,  3, 29, 48, 13, 43,\n",
       "       21, 13, 44])"
      ]
     },
     "metadata": {},
     "output_type": "display_data"
    },
    {
     "name": "stdout",
     "output_type": "stream",
     "text": [
      "Mean with mathematical formulas = 25.85\n",
      "Mean with numpy : 25.85\n",
      "Mean with built-in : 25\n",
      "----------------------------------------\n",
      "Median with built-in: 26.0\n",
      "Median with numpy: 26.0\n",
      "----------------------------------------\n",
      "Mode with built-in: 44\n",
      "----------------------------------------\n",
      "Variation with numpy: 294.1275\n",
      "Variation with pandas: 631.7023999999999\n",
      "Variation with math: 294.1275\n",
      "----------------------------------------\n",
      "Standart deviation is: 17.150145771975232\n",
      "----------------------------------------\n",
      "Standart error is: 3.8348891770167226\n"
     ]
    }
   ],
   "source": [
    "####### THIRD RANDOM DATA ######## \n",
    "\n",
    "rassal3=np.random.randint(50, size=20)\n",
    "display(rassal3)\n",
    "print(\"Mean with mathematical formulas =\", sum(rassal3) / len(rassal3))\n",
    "print(\"Mean with numpy :\", np.mean(rassal3))\n",
    "print(\"Mean with built-in :\", statistics.mean(rassal3))\n",
    "print(\"--\"*20)\n",
    "print(\"Median with built-in:\", statistics.median(rassal3))\n",
    "print(\"Median with numpy:\", np.median(rassal3))\n",
    "print(\"--\"*20)\n",
    "print(\"Mode with built-in:\", statistics.mode(rassal3))\n",
    "print(\"--\"*20)\n",
    "print(\"Variation with numpy:\", np.var(rassal3))\n",
    "print(\"Variation with pandas:\", rassal2.var())\n",
    "print(\"Variation with math:\", sum((rassal3 -np.mean(rassal3))**2) / (len(rassal3)))\n",
    "print(\"--\"*20)\n",
    "print(\"Standart deviation is:\", np.std(rassal3))\n",
    "print(\"--\"*20)\n",
    "print(\"Standart error is:\", np.std(rassal3) / np.sqrt(len(rassal3)))"
   ]
  }
 ],
 "metadata": {
  "kernelspec": {
   "display_name": "Python 3",
   "language": "python",
   "name": "python3"
  },
  "language_info": {
   "codemirror_mode": {
    "name": "ipython",
    "version": 3
   },
   "file_extension": ".py",
   "mimetype": "text/x-python",
   "name": "python",
   "nbconvert_exporter": "python",
   "pygments_lexer": "ipython3",
   "version": "3.8.3"
  }
 },
 "nbformat": 4,
 "nbformat_minor": 4
}
